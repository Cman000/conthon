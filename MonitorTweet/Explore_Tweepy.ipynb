{
 "cells": [
  {
   "cell_type": "code",
   "execution_count": 14,
   "metadata": {},
   "outputs": [],
   "source": [
    "import tweepy\n",
    "import json"
   ]
  },
  {
   "cell_type": "code",
   "execution_count": 20,
   "metadata": {},
   "outputs": [],
   "source": [
    "my_keys = \\\n",
    "    json.loads(\n",
    "        open(\n",
    "            r'./secret_key.txt'\n",
    "        ).read()\n",
    "    )"
   ]
  },
  {
   "cell_type": "code",
   "execution_count": 36,
   "metadata": {},
   "outputs": [],
   "source": [
    "auth = \\\n",
    "    tweepy.OAuth1UserHandler(\n",
    "        my_keys['API_KEY'], \n",
    "        my_keys['API_SECRET_KEY'], \n",
    "        my_keys['ACCESS_TOKEN'], \n",
    "        my_keys['ACCESS_SECRET_TOKEN']\n",
    "    )"
   ]
  },
  {
   "cell_type": "code",
   "execution_count": 40,
   "metadata": {},
   "outputs": [],
   "source": [
    "client = \\\n",
    "    tweepy.Client(\n",
    "        consumer_key=my_keys['API_KEY'],\n",
    "        consumer_secret=my_keys['API_SECRET_KEY'],\n",
    "        access_token=my_keys['ACCESS_TOKEN'],\n",
    "        access_token_secret=my_keys['ACCESS_SECRET_TOKEN']\n",
    "    )"
   ]
  },
  {
   "cell_type": "code",
   "execution_count": 41,
   "metadata": {},
   "outputs": [],
   "source": [
    "api = tweepy.API(auth)"
   ]
  },
  {
   "cell_type": "code",
   "execution_count": null,
   "metadata": {},
   "outputs": [],
   "source": [
    "# what can we do for free?"
   ]
  },
  {
   "cell_type": "code",
   "execution_count": 50,
   "metadata": {},
   "outputs": [],
   "source": [
    "t = client.create_tweet(text='Tweet I wrote.').data['id']"
   ]
  },
  {
   "cell_type": "code",
   "execution_count": 53,
   "metadata": {},
   "outputs": [
    {
     "data": {
      "text/plain": [
       "Response(data={'deleted': True}, includes={}, errors=[], meta={})"
      ]
     },
     "execution_count": 53,
     "metadata": {},
     "output_type": "execute_result"
    }
   ],
   "source": [
    "client.delete_tweet(id=t)"
   ]
  }
 ],
 "metadata": {
  "kernelspec": {
   "display_name": "conthon",
   "language": "python",
   "name": "python3"
  },
  "language_info": {
   "codemirror_mode": {
    "name": "ipython",
    "version": 3
   },
   "file_extension": ".py",
   "mimetype": "text/x-python",
   "name": "python",
   "nbconvert_exporter": "python",
   "pygments_lexer": "ipython3",
   "version": "3.7.16"
  }
 },
 "nbformat": 4,
 "nbformat_minor": 2
}
